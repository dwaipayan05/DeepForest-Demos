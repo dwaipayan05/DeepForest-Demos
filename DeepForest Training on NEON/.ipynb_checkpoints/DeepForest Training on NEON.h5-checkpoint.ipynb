{
 "cells": [
  {
   "cell_type": "markdown",
   "metadata": {},
   "source": [
    "**Importing Necessary Libraries**"
   ]
  },
  {
   "cell_type": "code",
   "execution_count": 2,
   "metadata": {},
   "outputs": [],
   "source": [
    "import os\n",
    "from deepforest import get_data\n",
    "from deepforest import deepforest\n",
    "from deepforest import utilities\n",
    "from deepforest import preprocess"
   ]
  },
  {
   "cell_type": "code",
   "execution_count": 10,
   "metadata": {},
   "outputs": [
    {
     "data": {
      "text/html": [
       "<div>\n",
       "<style scoped>\n",
       "    .dataframe tbody tr th:only-of-type {\n",
       "        vertical-align: middle;\n",
       "    }\n",
       "\n",
       "    .dataframe tbody tr th {\n",
       "        vertical-align: top;\n",
       "    }\n",
       "\n",
       "    .dataframe thead th {\n",
       "        text-align: right;\n",
       "    }\n",
       "</style>\n",
       "<table border=\"1\" class=\"dataframe\">\n",
       "  <thead>\n",
       "    <tr style=\"text-align: right;\">\n",
       "      <th></th>\n",
       "      <th>image_path</th>\n",
       "      <th>xmin</th>\n",
       "      <th>ymin</th>\n",
       "      <th>xmax</th>\n",
       "      <th>ymax</th>\n",
       "      <th>label</th>\n",
       "    </tr>\n",
       "  </thead>\n",
       "  <tbody>\n",
       "    <tr>\n",
       "      <th>0</th>\n",
       "      <td>2019_YELL_2_528000_4978000_image_crop2.tiff</td>\n",
       "      <td>681</td>\n",
       "      <td>369</td>\n",
       "      <td>699</td>\n",
       "      <td>386</td>\n",
       "      <td>Tree</td>\n",
       "    </tr>\n",
       "    <tr>\n",
       "      <th>1</th>\n",
       "      <td>2019_YELL_2_528000_4978000_image_crop2.tiff</td>\n",
       "      <td>980</td>\n",
       "      <td>59</td>\n",
       "      <td>998</td>\n",
       "      <td>79</td>\n",
       "      <td>Tree</td>\n",
       "    </tr>\n",
       "    <tr>\n",
       "      <th>2</th>\n",
       "      <td>2019_YELL_2_528000_4978000_image_crop2.tiff</td>\n",
       "      <td>953</td>\n",
       "      <td>135</td>\n",
       "      <td>964</td>\n",
       "      <td>150</td>\n",
       "      <td>Tree</td>\n",
       "    </tr>\n",
       "    <tr>\n",
       "      <th>3</th>\n",
       "      <td>2019_YELL_2_528000_4978000_image_crop2.tiff</td>\n",
       "      <td>969</td>\n",
       "      <td>183</td>\n",
       "      <td>995</td>\n",
       "      <td>208</td>\n",
       "      <td>Tree</td>\n",
       "    </tr>\n",
       "    <tr>\n",
       "      <th>4</th>\n",
       "      <td>2019_YELL_2_528000_4978000_image_crop2.tiff</td>\n",
       "      <td>742</td>\n",
       "      <td>623</td>\n",
       "      <td>751</td>\n",
       "      <td>635</td>\n",
       "      <td>Tree</td>\n",
       "    </tr>\n",
       "  </tbody>\n",
       "</table>\n",
       "</div>"
      ],
      "text/plain": [
       "                                    image_path  xmin  ymin  xmax  ymax label\n",
       "0  2019_YELL_2_528000_4978000_image_crop2.tiff   681   369   699   386  Tree\n",
       "1  2019_YELL_2_528000_4978000_image_crop2.tiff   980    59   998    79  Tree\n",
       "2  2019_YELL_2_528000_4978000_image_crop2.tiff   953   135   964   150  Tree\n",
       "3  2019_YELL_2_528000_4978000_image_crop2.tiff   969   183   995   208  Tree\n",
       "4  2019_YELL_2_528000_4978000_image_crop2.tiff   742   623   751   635  Tree"
      ]
     },
     "execution_count": 10,
     "metadata": {},
     "output_type": "execute_result"
    }
   ],
   "source": [
    "YELL_xml = \"YELL_Image_XML(a).xml\"\n",
    "annotation = utilities.xml_to_annotations(YELL_xml)\n",
    "annotation.head()"
   ]
  },
  {
   "cell_type": "code",
   "execution_count": null,
   "metadata": {},
   "outputs": [],
   "source": []
  }
 ],
 "metadata": {
  "kernelspec": {
   "display_name": "Python 3",
   "language": "python",
   "name": "python3"
  },
  "language_info": {
   "codemirror_mode": {
    "name": "ipython",
    "version": 3
   },
   "file_extension": ".py",
   "mimetype": "text/x-python",
   "name": "python",
   "nbconvert_exporter": "python",
   "pygments_lexer": "ipython3",
   "version": "3.7.10"
  }
 },
 "nbformat": 4,
 "nbformat_minor": 4
}
